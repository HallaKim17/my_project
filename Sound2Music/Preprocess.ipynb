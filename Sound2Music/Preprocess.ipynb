{
 "cells": [
  {
   "cell_type": "code",
   "execution_count": 4,
   "metadata": {},
   "outputs": [
    {
     "ename": "ModuleNotFoundError",
     "evalue": "No module named 'progress'",
     "output_type": "error",
     "traceback": [
      "\u001b[0;31m---------------------------------------------------------------------------\u001b[0m",
      "\u001b[0;31mModuleNotFoundError\u001b[0m                       Traceback (most recent call last)",
      "\u001b[0;32m<ipython-input-4-c36ee3963a87>\u001b[0m in \u001b[0;36m<module>\u001b[0;34m\u001b[0m\n\u001b[1;32m      4\u001b[0m \u001b[0;32mimport\u001b[0m \u001b[0mtorch\u001b[0m\u001b[0;34m\u001b[0m\u001b[0;34m\u001b[0m\u001b[0m\n\u001b[1;32m      5\u001b[0m \u001b[0;32mimport\u001b[0m \u001b[0mhashlib\u001b[0m\u001b[0;34m\u001b[0m\u001b[0;34m\u001b[0m\u001b[0m\n\u001b[0;32m----> 6\u001b[0;31m \u001b[0;32mfrom\u001b[0m \u001b[0mprogress\u001b[0m\u001b[0;34m.\u001b[0m\u001b[0mbar\u001b[0m \u001b[0;32mimport\u001b[0m \u001b[0mBar\u001b[0m\u001b[0;34m\u001b[0m\u001b[0;34m\u001b[0m\u001b[0m\n\u001b[0m\u001b[1;32m      7\u001b[0m \u001b[0;32mfrom\u001b[0m \u001b[0mconcurrent\u001b[0m\u001b[0;34m.\u001b[0m\u001b[0mfutures\u001b[0m \u001b[0;32mimport\u001b[0m \u001b[0mProcessPoolExecutor\u001b[0m\u001b[0;34m\u001b[0m\u001b[0;34m\u001b[0m\u001b[0m\n\u001b[1;32m      8\u001b[0m \u001b[0;34m\u001b[0m\u001b[0m\n",
      "\u001b[0;31mModuleNotFoundError\u001b[0m: No module named 'progress'"
     ]
    }
   ],
   "source": [
    "import os\n",
    "import re\n",
    "import sys\n",
    "import torch\n",
    "import hashlib\n",
    "from progress.bar import Bar\n",
    "from concurrent.futures import ProcessPoolExecutor\n",
    "\n",
    "from sequence import NoteSeq, EventSeq, ControlSeq\n",
    "import utils\n",
    "import config\n",
    "\n",
    "def preprocess_midi(path):\n",
    "    note_seq = NoteSeq.from_midi_file(path)\n",
    "    note_seq.adjust_time(-note_seq.notes[0].start)\n",
    "    event_seq = EventSeq.from_note_seq(note_seq)\n",
    "    control_seq = ControlSeq.from_event_seq(event_seq)\n",
    "    return event_seq.to_array(), control_seq.to_compressed_array()\n",
    "\n",
    "def preprocess_midi_files_under(midi_root, save_dir, num_workers):\n",
    "    midi_paths = list(utils.find_files_by_extensions(midi_root, ['.mid', '.midi']))\n",
    "    os.makedirs(save_dir, exist_ok=True)\n",
    "    out_fmt = '{}-{}.data'\n",
    "    \n",
    "    results = []\n",
    "    executor = ProcessPoolExecutor(num_workers)\n",
    "\n",
    "    for path in midi_paths:\n",
    "        try:\n",
    "            results.append((path, executor.submit(preprocess_midi, path)))\n",
    "        except KeyboardInterrupt:\n",
    "            print(' Abort')\n",
    "            return\n",
    "        except:\n",
    "            print(' Error')\n",
    "            continue\n",
    "    \n",
    "    for path, future in Bar('Processing').iter(results):\n",
    "        print(' ', end='[{}]'.format(path), flush=True)\n",
    "        name = os.path.basename(path)\n",
    "        code = hashlib.md5(path.encode()).hexdigest()\n",
    "        save_path = os.path.join(save_dir, out_fmt.format(name, code))\n",
    "        torch.save(future.result(), save_path)\n",
    "\n",
    "    print('Done')\n",
    "\n",
    "if __name__ == '__main__':\n",
    "    preprocess_midi_files_under(\n",
    "            midi_root=sys.argv[1],\n",
    "            save_dir=sys.argv[2],\n",
    "            num_workers=int(sys.argv[3]))"
   ]
  },
  {
   "cell_type": "code",
   "execution_count": 2,
   "metadata": {},
   "outputs": [
    {
     "name": "stdout",
     "output_type": "stream",
     "text": [
      "Collecting progress\n",
      "  Downloading https://files.pythonhosted.org/packages/38/ef/2e887b3d2b248916fc2121889ce68af8a16aaddbe82f9ae6533c24ff0d2b/progress-1.5.tar.gz\n",
      "Building wheels for collected packages: progress\n",
      "  Building wheel for progress (setup.py) ... \u001b[?25ldone\n",
      "\u001b[?25h  Stored in directory: /Users/hallakim/Library/Caches/pip/wheels/6c/c8/80/32a294e3041f006c661838c05a411c7b7ffc60ff939d14e116\n",
      "Successfully built progress\n",
      "Installing collected packages: progress\n",
      "Successfully installed progress-1.5\n"
     ]
    }
   ],
   "source": [
    "!pip install progress"
   ]
  },
  {
   "cell_type": "code",
   "execution_count": null,
   "metadata": {},
   "outputs": [],
   "source": []
  }
 ],
 "metadata": {
  "kernelspec": {
   "display_name": "torch_jupyter",
   "language": "python",
   "name": "torch"
  },
  "language_info": {
   "codemirror_mode": {
    "name": "ipython",
    "version": 3
   },
   "file_extension": ".py",
   "mimetype": "text/x-python",
   "name": "python",
   "nbconvert_exporter": "python",
   "pygments_lexer": "ipython3",
   "version": "3.7.7"
  }
 },
 "nbformat": 4,
 "nbformat_minor": 2
}
